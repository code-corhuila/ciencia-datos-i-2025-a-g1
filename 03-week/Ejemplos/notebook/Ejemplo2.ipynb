{
 "cells": [
  {
   "cell_type": "markdown",
   "metadata": {},
   "source": [
    "# Ejericio 1\n",
    "\n",
    "## Descripción: Capturar nombre, edad y validar si es esta es mayor o menor de edad\n",
    "\n",
    "* Datos de entrada: Nombre:String, edad:int(1-130)\n",
    "* Condición: \n",
    "  - Mensaje de menor edad \"Menor de edad\", cuando edad sea(1-17). \n",
    "  - Mensaje de menor edad \"Mayor de edad\", cuando edad sea(18-130). \n",
    "* Datos de salida:\n",
    "  * `Menor de edad`\n",
    "  * `Mayor de edad`\n",
    "  * Errores:\n",
    "    -  `Error al ingresar los datos, nombre no corresponde a dato numérico.`\n",
    "    -  `Error al ingresar los datos, edad debe ser entre (1-130).`"
   ]
  },
  {
   "cell_type": "code",
   "execution_count": null,
   "metadata": {},
   "outputs": [
    {
     "data": {
      "application/vnd.jupyter.widget-view+json": {
       "model_id": "5e23277aa2f0468f841c8797a8b072e7",
       "version_major": 2,
       "version_minor": 0
      },
      "text/plain": [
       "Text(value='', description='Nombre:', placeholder='Escribe tu nombre')"
      ]
     },
     "metadata": {},
     "output_type": "display_data"
    },
    {
     "name": "stdout",
     "output_type": "stream",
     "text": [
      "Error al ingresar los datos, edad debe ser un número.\n"
     ]
    },
    {
     "ename": "ValueError",
     "evalue": "invalid literal for int() with base 10: ''",
     "output_type": "error",
     "traceback": [
      "\u001b[1;31m---------------------------------------------------------------------------\u001b[0m",
      "\u001b[1;31mValueError\u001b[0m                                Traceback (most recent call last)",
      "Cell \u001b[1;32mIn[1], line 32\u001b[0m\n\u001b[0;32m     29\u001b[0m     exit()\n\u001b[0;32m     31\u001b[0m \u001b[38;5;66;03m# Convertimos la edad a un número entero\u001b[39;00m\n\u001b[1;32m---> 32\u001b[0m edad \u001b[38;5;241m=\u001b[39m \u001b[38;5;28;43mint\u001b[39;49m\u001b[43m(\u001b[49m\u001b[43medad\u001b[49m\u001b[43m)\u001b[49m\n\u001b[0;32m     34\u001b[0m \u001b[38;5;66;03m# Verificamos si la edad está en el rango válido (1-130)\u001b[39;00m\n\u001b[0;32m     35\u001b[0m \u001b[38;5;28;01mif\u001b[39;00m edad \u001b[38;5;241m<\u001b[39m \u001b[38;5;241m0\u001b[39m \u001b[38;5;129;01mor\u001b[39;00m edad \u001b[38;5;241m>\u001b[39m \u001b[38;5;241m130\u001b[39m:\n\u001b[0;32m     36\u001b[0m     \u001b[38;5;66;03m# Si la edad no está en el rango válido, mostramos un mensaje de error y terminamos el programa\u001b[39;00m\n",
      "\u001b[1;31mValueError\u001b[0m: invalid literal for int() with base 10: ''"
     ]
    },
    {
     "ename": "",
     "evalue": "",
     "output_type": "error",
     "traceback": [
      "\u001b[1;31mThe Kernel crashed while executing code in the current cell or a previous cell. \n",
      "\u001b[1;31mPlease review the code in the cell(s) to identify a possible cause of the failure. \n",
      "\u001b[1;31mClick <a href='https://aka.ms/vscodeJupyterKernelCrash'>here</a> for more info. \n",
      "\u001b[1;31mView Jupyter <a href='command:jupyter.viewOutput'>log</a> for further details."
     ]
    }
   ],
   "source": [
    "import ipywidgets as widgets\n",
    "from IPython.display import display\n",
    "\n",
    "# Solicitamos al usuario que ingrese su nombre\n",
    "Nombre = widgets.Text(\n",
    "    value='',\n",
    "    placeholder='Escribe tu nombre',\n",
    "    description='Nombre:',\n",
    "    disabled=False\n",
    ")\n",
    "display(Nombre)\n",
    "\n",
    "# Esperamos a que el usuario ingrese su nombre y presione Enter\n",
    "Nombre = Nombre.value\n",
    "\n",
    "# Verificamos si el nombre ingresado es un número\n",
    "if Nombre.isdigit():\n",
    "    # Si el nombre es un número, mostramos un mensaje de error y terminamos el programa\n",
    "    print(\"Error al ingresar los datos, nombre no corresponde a dato numérico.\")\n",
    "    exit()\n",
    "\n",
    "# Solicitamos al usuario que ingrese su edad\n",
    "edad = input(\"¿Cuántos años tienes? \")\n",
    "\n",
    "# Verificamos si la edad ingresada es un número\n",
    "if not edad.isdigit():\n",
    "    # Si la edad no es un número, mostramos un mensaje de error y terminamos el programa\n",
    "    print(\"Error al ingresar los datos, edad debe ser un número.\")\n",
    "    exit()\n",
    "\n",
    "# Convertimos la edad a un número entero\n",
    "edad = int(edad)\n",
    "\n",
    "# Verificamos si la edad está en el rango válido (1-130)\n",
    "if edad < 0 or edad > 130:\n",
    "    # Si la edad no está en el rango válido, mostramos un mensaje de error y terminamos el programa\n",
    "    print(\"Error al ingresar los datos, edad debe ser entre (1-130)\")\n",
    "    exit()\n",
    "\n",
    "# Verificamos si la persona es menor de edad (menos de 18 años)\n",
    "if edad < 18:\n",
    "    # Si la persona es menor de edad, mostramos un mensaje\n",
    "    print(\"Menor de edad\")\n",
    "else:\n",
    "    # Si la persona es mayor de edad, mostramos un mensaje\n",
    "    print(\"Mayor de edad\")"
   ]
  },
  {
   "cell_type": "code",
   "execution_count": 4,
   "metadata": {},
   "outputs": [
    {
     "name": "stdout",
     "output_type": "stream",
     "text": [
      "Defaulting to user installation because normal site-packages is not writeable\n",
      "Collecting ipywidgets\n",
      "  Downloading ipywidgets-8.1.5-py3-none-any.whl.metadata (2.3 kB)\n",
      "Requirement already satisfied: comm>=0.1.3 in c:\\users\\ariel\\appdata\\roaming\\python\\python312\\site-packages (from ipywidgets) (0.2.2)\n",
      "Requirement already satisfied: ipython>=6.1.0 in c:\\users\\ariel\\appdata\\roaming\\python\\python312\\site-packages (from ipywidgets) (8.32.0)\n",
      "Requirement already satisfied: traitlets>=4.3.1 in c:\\users\\ariel\\appdata\\roaming\\python\\python312\\site-packages (from ipywidgets) (5.14.3)\n",
      "Collecting widgetsnbextension~=4.0.12 (from ipywidgets)\n",
      "  Downloading widgetsnbextension-4.0.13-py3-none-any.whl.metadata (1.6 kB)\n",
      "Collecting jupyterlab-widgets~=3.0.12 (from ipywidgets)\n",
      "  Downloading jupyterlab_widgets-3.0.13-py3-none-any.whl.metadata (4.1 kB)\n",
      "Requirement already satisfied: colorama in c:\\users\\ariel\\appdata\\roaming\\python\\python312\\site-packages (from ipython>=6.1.0->ipywidgets) (0.4.6)\n",
      "Requirement already satisfied: decorator in c:\\users\\ariel\\appdata\\roaming\\python\\python312\\site-packages (from ipython>=6.1.0->ipywidgets) (5.2.0)\n",
      "Requirement already satisfied: jedi>=0.16 in c:\\users\\ariel\\appdata\\roaming\\python\\python312\\site-packages (from ipython>=6.1.0->ipywidgets) (0.19.2)\n",
      "Requirement already satisfied: matplotlib-inline in c:\\users\\ariel\\appdata\\roaming\\python\\python312\\site-packages (from ipython>=6.1.0->ipywidgets) (0.1.7)\n",
      "Requirement already satisfied: prompt_toolkit<3.1.0,>=3.0.41 in c:\\users\\ariel\\appdata\\roaming\\python\\python312\\site-packages (from ipython>=6.1.0->ipywidgets) (3.0.50)\n",
      "Requirement already satisfied: pygments>=2.4.0 in c:\\users\\ariel\\appdata\\roaming\\python\\python312\\site-packages (from ipython>=6.1.0->ipywidgets) (2.19.1)\n",
      "Requirement already satisfied: stack_data in c:\\users\\ariel\\appdata\\roaming\\python\\python312\\site-packages (from ipython>=6.1.0->ipywidgets) (0.6.3)\n",
      "Requirement already satisfied: parso<0.9.0,>=0.8.4 in c:\\users\\ariel\\appdata\\roaming\\python\\python312\\site-packages (from jedi>=0.16->ipython>=6.1.0->ipywidgets) (0.8.4)\n",
      "Requirement already satisfied: wcwidth in c:\\users\\ariel\\appdata\\roaming\\python\\python312\\site-packages (from prompt_toolkit<3.1.0,>=3.0.41->ipython>=6.1.0->ipywidgets) (0.2.13)\n",
      "Requirement already satisfied: executing>=1.2.0 in c:\\users\\ariel\\appdata\\roaming\\python\\python312\\site-packages (from stack_data->ipython>=6.1.0->ipywidgets) (2.2.0)\n",
      "Requirement already satisfied: asttokens>=2.1.0 in c:\\users\\ariel\\appdata\\roaming\\python\\python312\\site-packages (from stack_data->ipython>=6.1.0->ipywidgets) (3.0.0)\n",
      "Requirement already satisfied: pure-eval in c:\\users\\ariel\\appdata\\roaming\\python\\python312\\site-packages (from stack_data->ipython>=6.1.0->ipywidgets) (0.2.3)\n",
      "Downloading ipywidgets-8.1.5-py3-none-any.whl (139 kB)\n",
      "Downloading jupyterlab_widgets-3.0.13-py3-none-any.whl (214 kB)\n",
      "Downloading widgetsnbextension-4.0.13-py3-none-any.whl (2.3 MB)\n",
      "   ---------------------------------------- 0.0/2.3 MB ? eta -:--:--\n",
      "   -------- ------------------------------- 0.5/2.3 MB 3.4 MB/s eta 0:00:01\n",
      "   ---------------------- ----------------- 1.3/2.3 MB 3.4 MB/s eta 0:00:01\n",
      "   ----------------------------------- ---- 2.1/2.3 MB 3.4 MB/s eta 0:00:01\n",
      "   ---------------------------------------- 2.3/2.3 MB 3.3 MB/s eta 0:00:00\n",
      "Installing collected packages: widgetsnbextension, jupyterlab-widgets, ipywidgets\n",
      "Successfully installed ipywidgets-8.1.5 jupyterlab-widgets-3.0.13 widgetsnbextension-4.0.13\n"
     ]
    },
    {
     "name": "stderr",
     "output_type": "stream",
     "text": [
      "\n",
      "[notice] A new release of pip is available: 24.2 -> 25.0.1\n",
      "[notice] To update, run: python.exe -m pip install --upgrade pip\n"
     ]
    }
   ],
   "source": [
    "!pip install ipywidgets"
   ]
  }
 ],
 "metadata": {
  "kernelspec": {
   "display_name": "Python 3",
   "language": "python",
   "name": "python3"
  },
  "language_info": {
   "codemirror_mode": {
    "name": "ipython",
    "version": 3
   },
   "file_extension": ".py",
   "mimetype": "text/x-python",
   "name": "python",
   "nbconvert_exporter": "python",
   "pygments_lexer": "ipython3",
   "version": "3.12.6"
  }
 },
 "nbformat": 4,
 "nbformat_minor": 2
}
